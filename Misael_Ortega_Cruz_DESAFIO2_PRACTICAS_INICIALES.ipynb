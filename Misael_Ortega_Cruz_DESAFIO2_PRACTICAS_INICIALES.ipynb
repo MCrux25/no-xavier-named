{
  "nbformat": 4,
  "nbformat_minor": 0,
  "metadata": {
    "colab": {
      "name": "PLANTILLA-ENTREGA-DESAFIO2-PRACTICAS INICIALES.ipynb",
      "provenance": [],
      "collapsed_sections": [],
      "include_colab_link": true
    },
    "kernelspec": {
      "name": "python3",
      "display_name": "Python 3"
    },
    "language_info": {
      "name": "python"
    }
  },
  "cells": [
    {
      "cell_type": "markdown",
      "metadata": {
        "id": "view-in-github",
        "colab_type": "text"
      },
      "source": [
        "<a href=\"https://colab.research.google.com/github/MCrux25/no-xavier-named/blob/coderhouse/Misael_Ortega_Cruz_DESAFIO2_PRACTICAS_INICIALES.ipynb\" target=\"_parent\"><img src=\"https://colab.research.google.com/assets/colab-badge.svg\" alt=\"Open In Colab\"/></a>"
      ]
    },
    {
      "cell_type": "markdown",
      "source": [
        "**EJERCICIO 1 //**\n",
        "\n",
        "CONSIGNA:\n",
        "\n",
        "Identifica el tipo de dato (int, float, string, list o touple) de los siguientes valores literales:\n",
        "\n",
        "\n",
        "\n",
        "```\n",
        "DATO\n",
        "\n",
        "1) \"Hola Mundo\" \n",
        "2) [1, 10, 100]\n",
        "3) -25\n",
        "4) (8, 100, -12)\n",
        "5) 1.167\n",
        "6) [\"Hola\", \"Mundo\"]\n",
        "7) ' '\n",
        "8) (1, -5, \"Hola!\")\n",
        "\n",
        "\n",
        "```\n",
        "\n",
        "\n",
        "\n"
      ],
      "metadata": {
        "id": "7ZgmRjMuP1qK"
      }
    },
    {
      "cell_type": "code",
      "source": [
        "# ------------------ COMPLETAR CON LOS TIPOS DE DATOS ---------------------\n",
        "# 1) \n",
        "\n",
        "# 2)\n",
        "\n",
        "# 3)\n",
        "\n",
        "# 4)\n",
        "\n",
        "# 5)\n",
        "\n",
        "# 6)\n",
        "\n",
        "# 7)\n",
        "\n",
        "# 8)\n",
        "# -------------------------------------------------------------------------"
      ],
      "metadata": {
        "id": "0PFEy3VkP15o"
      },
      "execution_count": null,
      "outputs": []
    },
    {
      "cell_type": "markdown",
      "source": [
        "**EJERCICIO 2 //**\n",
        "\n",
        "CONSIGNA:\n",
        "\n",
        "Determina mentalmente **(SIN PROGRAMAR)** el resultado que aparecerá por pantalla a partir de las siguientes variables:\n",
        "\n",
        "\n",
        "\n",
        "```\n",
        "a = 10\n",
        "b = -5\n",
        "c = \"Hola\"\n",
        "d = [1, 2, 3]\n",
        "e= (4,5,6)\n",
        "\n",
        "```\n",
        "\n",
        "\n"
      ],
      "metadata": {
        "id": "bmvJTFrmPw9_"
      }
    },
    {
      "cell_type": "code",
      "execution_count": null,
      "metadata": {
        "id": "bXl3-fpMODBn"
      },
      "outputs": [],
      "source": [
        "# ---------------------------- COMPLETAR AQUI --------------------------------\n",
        "# 1) print(a * 5)  =\n",
        "\n",
        "# 2) print(a - b)  =\n",
        "\n",
        "# 3) print(c + \"Mundo\")  =\n",
        "\n",
        "# 4) print(c * 2)  =\n",
        "\n",
        "# 5) print(c[-1])  =  \n",
        "\n",
        "# 6) print(c[1:])  =\n",
        "\n",
        "# 7) print(d + d)  =\n",
        "\n",
        "# 8) print(e[1])   =\n",
        "\n",
        "# 9) print(e+(7,8,9))  ="
      ]
    },
    {
      "cell_type": "markdown",
      "source": [
        "**EJERCICIO 3 //**\n",
        "\n",
        "CONSIGNA:\n",
        "\n",
        "El siguiente código pretende realizar una media entre 3 números, pero no funciona correctamente. ¿Eres capaz de identificar el problema y solucionarlo?\n",
        "\n",
        "\n",
        "\n",
        "```\n",
        "In [1]:\n",
        "\n",
        "numero_1 = 9\n",
        "\n",
        "numero_2 = 3\n",
        "\n",
        "numero_3 = 6\n",
        "\n",
        "​media = numero_1 + numero_2 + numero_3 / 3\n",
        "\n",
        "print(\"La nota media es\", media)\n",
        "\n",
        "La nota media es 14.0\n",
        "```\n",
        "\n",
        "\n"
      ],
      "metadata": {
        "id": "RsNjq-mlOpiK"
      }
    },
    {
      "cell_type": "code",
      "source": [
        "# ---------------------------- COMPLETAR AQUI --------------------------------"
      ],
      "metadata": {
        "id": "DGckW9VLSOzw"
      },
      "execution_count": null,
      "outputs": []
    },
    {
      "cell_type": "markdown",
      "source": [
        "**EJERCICIO 4 //**\n",
        "\n",
        "CONSIGNA:\n",
        "\n",
        "A partir del ejercicio anterior, desarrolla un programa para calcular la nota final. Para ello vamos a suponer que cada número es una nota y que queremos obtener la nota media. Cada nota tiene un valor porcentual:\n",
        "\n",
        "La primera nota vale un 15% del total\n",
        "\n",
        "*  La primera nota vale un 15% del total\n",
        "*  La segunda nota vale un 35% del total\n",
        "*  La tercera nota vale un 50% del total\n",
        "\n",
        "Ejemplos:\n",
        "\n",
        "nota_1 = 10\n",
        "\n",
        "nota_2 = 7\n",
        "\n",
        "nota_3 = 4"
      ],
      "metadata": {
        "id": "1_nVkr7IO76X"
      }
    },
    {
      "cell_type": "code",
      "source": [
        "# ---------------------------- COMPLETAR AQUI --------------------------------"
      ],
      "metadata": {
        "id": "4o-0QQOMPDJ3"
      },
      "execution_count": null,
      "outputs": []
    },
    {
      "cell_type": "markdown",
      "source": [
        "**EJERCICIO 5 //**\n",
        "\n",
        "CONSIGNA:\n",
        "\n",
        "La siguiente matriz (o lista con listas anidadas) debe cumplir una condición: en cada fila el cuarto elemento siempre debe ser el resultado de sumar los tres primeros. ¿Eres capaz de modificar las sumas incorrectas utilizando la técnica del slicing?\n",
        "\n",
        "🖐 Ayuda:  La función llamada sum(lista) devuelve una suma de todos los elementos de la lista.\n",
        "\n",
        "\n",
        "\n",
        "```\n",
        "# Partirás de: \n",
        "matriz = [ \n",
        "    [1, 5, 1],\n",
        "    [2, 1, 2],\n",
        "    [3, 0, 1],\n",
        "    [1, 4, 4]\n",
        "]\n",
        "\n",
        "Debes llegar a: \n",
        "\n",
        "matriz = [ \n",
        "    [1, 5, 1, 7],\n",
        "    [2, 1, 2, 5],\n",
        "    [3, 0, 1, 4],\n",
        "    [1, 4, 4, 9]\n",
        "]\n",
        "\n",
        "```\n",
        "\n",
        "\n"
      ],
      "metadata": {
        "id": "q69uRVbDPet9"
      }
    },
    {
      "cell_type": "code",
      "source": [
        "# ---------------------------- COMPLETAR AQUI --------------------------------"
      ],
      "metadata": {
        "id": "-kTFpZ1KPqcx"
      },
      "execution_count": null,
      "outputs": []
    }
  ]
}