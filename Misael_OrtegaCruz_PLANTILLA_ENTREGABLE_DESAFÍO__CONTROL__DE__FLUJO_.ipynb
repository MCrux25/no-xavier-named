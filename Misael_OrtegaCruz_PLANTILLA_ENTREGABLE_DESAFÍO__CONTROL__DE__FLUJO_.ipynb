{
  "nbformat": 4,
  "nbformat_minor": 0,
  "metadata": {
    "colab": {
      "name": "Misael_OrtegaCruz_PLANTILLA_ENTREGABLE/DESAFÍO_\"CONTROL _DE _FLUJO\".ipynb",
      "provenance": [],
      "collapsed_sections": []
    },
    "kernelspec": {
      "name": "python3",
      "display_name": "Python 3"
    },
    "language_info": {
      "name": "python"
    }
  },
  "cells": [
    {
      "cell_type": "markdown",
      "source": [
        "**EJERCICIO 1 //**\n",
        "\n",
        "CONSIGNA:\n",
        "\n",
        "Escribí un programa que lea dos números por teclado y permita elegir entre 4 opciones en un menú:\n",
        "\n",
        "\n",
        "1 - Mostrar una suma de los dos números.\n",
        "\n",
        "2 - Mostrar una resta de los dos números (el primero menos el segundo)\n",
        "\n",
        "3 - Mostrar una multiplicación de los dos números.\n",
        "\n",
        "4 - Si elige esta opción se interrumpirá la impresión del menú y el programa finalizará.\n",
        "\n",
        "5 - En caso de no introducir una opción válida, el programa informará de que no es correcta.\n"
      ],
      "metadata": {
        "id": "8vnD4dEfNH_5"
      }
    },
    {
      "cell_type": "code",
      "execution_count": null,
      "metadata": {
        "id": "ETEUSTGjM0fi"
      },
      "outputs": [],
      "source": [
        "num1 = int(input(\"Ingrese el primer número: \\n\"))\n",
        "num2 = int(input(\"Ingrese el segundo número: \\n\"))\n",
        "uno = num1 + num2\n",
        "dos = num1 - num2\n",
        "tres= num1 * num2\n",
        "menu = [uno, dos, tres]\n",
        "for opcion in menu:\n",
        "  opcion = input(\"\"\"¿Qué desea hacer con sus números?\\nOpción 1: Sumarlos\n",
        "Opción 2: Restar el segundo del primero\n",
        "Opción 3: Multiplicarlos\n",
        "Nota:Por favor, escriba la opción deseada indicando el número en letras minúsculas\n",
        "\"\"\")\n",
        "  if opcion == \"uno\":\n",
        "    print (f'{menu[0]}')\n",
        "  elif opcion == \"dos\":\n",
        "    print (f'{menu[1]}')\n",
        "  elif opcion == \"tres\":\n",
        "    print (f'{menu[2]}')\n",
        "    break\n",
        "  else:\n",
        "    print (\"Opción no válida, intente de nuevo\")\n"
      ]
    },
    {
      "cell_type": "markdown",
      "source": [
        "**EJERCICIO 2 //**\n",
        "\n",
        "CONSIGNA:\n",
        "\n",
        "Escribí un programa que lea un número impar por teclado. Si el usuario no introduce un número impar, debe repetirse el proceso hasta que lo introduzca correctamente.\n"
      ],
      "metadata": {
        "id": "CcUx6lQWNjMq"
      }
    },
    {
      "cell_type": "code",
      "source": [
        "num = 0\n",
        "while num % 2 == 0:\n",
        "  num = int(input(\"Ingrese un número impar:\\n\"))\n",
        "  if num % 2 == 0:\n",
        "    print ('Por favor ingrese un número impar')\n",
        "else: \n",
        "  print ('Gracias por su respuesta')"
      ],
      "metadata": {
        "id": "sHPTk2DrNrT2"
      },
      "execution_count": null,
      "outputs": []
    },
    {
      "cell_type": "markdown",
      "source": [
        "**EJERCICIO 3 //**\n",
        "\n",
        "CONSIGNA:\n",
        "\n",
        "Escribí un programa que sume todos los números enteros impares desde el 0 hasta el 100:\n",
        "\n",
        "🖐 Ayuda: Podes utilizar la funciones sum() y range() para hacerlo más fácil.\n",
        "\n",
        "El tercer parámetro en la función range(inicio, fin, salto) indica un salto de números.\n",
        "\n"
      ],
      "metadata": {
        "id": "_TH22TVMNsp8"
      }
    },
    {
      "cell_type": "code",
      "source": [
        "sum = 0\n",
        "for numero in range (1,101,2):\n",
        "  sum += numero\n",
        "  print (sum)"
      ],
      "metadata": {
        "id": "eZ6hS1KgNtLG"
      },
      "execution_count": null,
      "outputs": []
    },
    {
      "cell_type": "markdown",
      "source": [
        "**EJERCICIO 4 //**\n",
        "\n",
        "CONSIGNA:\n",
        "\n",
        "Escribí un programa que pida al usuario cuantos números quiere introducir.\n",
        "\n",
        "Luego lee todos los números y realiza una media aritmética:\n"
      ],
      "metadata": {
        "id": "6D43LwO2N31C"
      }
    },
    {
      "cell_type": "code",
      "source": [
        "sum = 0\n",
        "numeros = int(input('¿Cuántos números quiere introducir'))\n",
        "for x in range(numeros):\n",
        "  sum += float(input(\"Introduce un número:\\n\"))\n",
        "print(\"Se han introducido\",numeros,\"números, que en total han sumado\",sum,\", y la media es\",sum/numeros)\n"
      ],
      "metadata": {
        "id": "SM8C1v2eN4bq"
      },
      "execution_count": null,
      "outputs": []
    },
    {
      "cell_type": "markdown",
      "source": [
        "**EJERCICIO 5 //**\n",
        "\n",
        "CONSIGNA:\n",
        "\n",
        "Escribí un programa que pida al usuario un número entero del 0 al 9, y que mientras el número no sea correcto se repita el proceso. Luego debe comprobar si el número se encuentra en la lista de números y notificarlo:\n",
        "\n",
        "\n",
        "🖐 Ayuda: La sintaxis \"valor in lista\" permite comprobar fácilmente si un valor se encuentra en una lista (devuelve True o False)\n"
      ],
      "metadata": {
        "id": "i2NklaciOAVl"
      }
    },
    {
      "cell_type": "code",
      "source": [
        "numeros = [1, 3, 6, 9]\n",
        "while True:\n",
        "  num = int(input(\"Escribe un número del 0 al 9: \"))\n",
        "  if num >= 0 and num <= 9:\n",
        "    break\n",
        "if num in numeros:\n",
        "  print(\"El número\",num,\"se encuentra en la lista\",numeros)\n",
        "else:\n",
        "  print(\"El número\",num,\"no se encuentra en la lista\",numeros)\n"
      ],
      "metadata": {
        "id": "okRinij8OBYh",
        "colab": {
          "base_uri": "https://localhost:8080/"
        },
        "outputId": "1158ad7f-2d23-41d4-a9b9-245fb1de6c35"
      },
      "execution_count": null,
      "outputs": [
        {
          "output_type": "stream",
          "name": "stdout",
          "text": [
            "Escribe un número del 0 al 9: 3\n",
            "El número 3 se encuentra en la lista [1, 3, 6, 9]\n"
          ]
        }
      ]
    },
    {
      "cell_type": "markdown",
      "source": [
        "**EJERCICIO 6 //**\n",
        "\n",
        "CONSIGNA:\n",
        "\n",
        "Utilizando la función range() y la conversión a listas genera las siguientes listas dinámicamente:\n",
        "\n",
        "```\n",
        "- Todos los números del 0 al 10 [0, 1, 2, ..., 10]\n",
        "\n",
        "- Todos los números del -10 al 0 [-10, -9, -8, ..., 0]\n",
        "\n",
        "- Todos los números pares del 0 al 20 [0, 2, 4, ..., 20]\n",
        "\n",
        "- Todos los números impares entre -20 y 0 [-19, -17, -15, ..., -1]\n",
        "\n",
        "- Todos los números múltiples de 5 del 0 al 50 [0, 5, 10, ..., 50]\n",
        "```\n",
        "\n",
        "\n",
        "\n",
        "\n",
        "🖐 Ayuda: la conversión de listas es mi_lista=list(range(inicio,fin,salto))\n"
      ],
      "metadata": {
        "id": "bv2PA-WZOI4O"
      }
    },
    {
      "cell_type": "code",
      "source": [
        "#lista 1\n",
        "print (list (range(0,11)))\n",
        "#lista 2\n",
        "print (list (range(-10,0)))\n",
        "#lista 3\n",
        "print (list (range(0,21,2)))\n",
        "#lista 4\n",
        "print (list (range(-19,-0,2)))\n",
        "#lista 5\n",
        "print (list (range(0,51,5)))"
      ],
      "metadata": {
        "id": "Z3IXbyUcOJW8",
        "colab": {
          "base_uri": "https://localhost:8080/"
        },
        "outputId": "06d4cf0a-58ca-42b5-8276-f47e70e2856c"
      },
      "execution_count": 150,
      "outputs": [
        {
          "output_type": "stream",
          "name": "stdout",
          "text": [
            "[0, 1, 2, 3, 4, 5, 6, 7, 8, 9, 10]\n",
            "[-10, -9, -8, -7, -6, -5, -4, -3, -2, -1]\n",
            "[0, 2, 4, 6, 8, 10, 12, 14, 16, 18, 20]\n",
            "[-19, -17, -15, -13, -11, -9, -7, -5, -3, -1]\n",
            "[0, 5, 10, 15, 20, 25, 30, 35, 40, 45, 50]\n"
          ]
        }
      ]
    },
    {
      "cell_type": "markdown",
      "source": [
        "**EJERCICIO 7 //**\n",
        "\n",
        "CONSIGNA:\n",
        "\n",
        "Dadas dos listas, debes generar una tercera con todos los elementos que se repitan en ellas, pero no debe repetirse ningún elemento en la nueva lista:\n"
      ],
      "metadata": {
        "id": "HOe_yyPqOfGZ"
      }
    },
    {
      "cell_type": "code",
      "source": [
        "\n",
        "lista_1 = [\"h\",'o','l','a',' ', 'm','u','n','d','o']\n",
        "lista_2 = [\"h\",'o','l','a',' ', 'l','u','n','a']\n",
        "lista_3 = []\n",
        "\n",
        "for letra in lista_1:\n",
        "  if letra in lista_2 and letra not in lista_3:\n",
        "    lista_3.append(letra)\n",
        "print (lista_3)"
      ],
      "metadata": {
        "id": "cl1jPCveOfcf",
        "colab": {
          "base_uri": "https://localhost:8080/"
        },
        "outputId": "ad0c6e88-3e0a-4f5e-faf4-7165c358ea2f"
      },
      "execution_count": 152,
      "outputs": [
        {
          "output_type": "stream",
          "name": "stdout",
          "text": [
            "['h', 'o', 'l', 'a', ' ', 'u', 'n']\n"
          ]
        }
      ]
    }
  ]
}